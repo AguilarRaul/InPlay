{
 "cells": [
  {
   "cell_type": "markdown",
   "id": "f325cb59-2453-46f4-b49c-a7598332b885",
   "metadata": {},
   "source": [
    "# Question 1: Predicting pitch being put in Play"
   ]
  },
  {
   "cell_type": "code",
   "execution_count": 1,
   "id": "f3f859e2-2d05-49e6-a6e5-b0123c048306",
   "metadata": {},
   "outputs": [
    {
     "data": {
      "text/plain": [
       "RendererRegistry.enable('mimetype')"
      ]
     },
     "execution_count": 1,
     "metadata": {},
     "output_type": "execute_result"
    }
   ],
   "source": [
    "# Import libraries needed\n",
    "import pandas as pd\n",
    "from lightgbm.sklearn import LGBMClassifier\n",
    "from scipy.stats import lognorm, loguniform, randint\n",
    "from sklearn.model_selection import cross_validate, RandomizedSearchCV\n",
    "from sklearn.linear_model import LogisticRegression\n",
    "import altair as alt\n",
    "from sklearn.pipeline import make_pipeline\n",
    "from sklearn.compose import make_column_transformer\n",
    "from sklearn.preprocessing import StandardScaler\n",
    "from sklearn.dummy import DummyClassifier\n",
    "from sklearn.naive_bayes import GaussianNB\n",
    "from sklearn.metrics import RocCurveDisplay, ConfusionMatrixDisplay\n",
    "alt.data_transformers.disable_max_rows()\n",
    "alt.data_transformers.enable('data_server')\n",
    "alt.renderers.enable('mimetype')"
   ]
  },
  {
   "cell_type": "markdown",
   "id": "bc831341-b031-4df8-9bc0-2ccaf7193aed",
   "metadata": {},
   "source": [
    "### Initial exploration"
   ]
  },
  {
   "cell_type": "code",
   "execution_count": 2,
   "id": "b16e02ca-c9e9-40b5-8db6-4ed17521d81e",
   "metadata": {},
   "outputs": [
    {
     "data": {
      "text/html": [
       "<div>\n",
       "<style scoped>\n",
       "    .dataframe tbody tr th:only-of-type {\n",
       "        vertical-align: middle;\n",
       "    }\n",
       "\n",
       "    .dataframe tbody tr th {\n",
       "        vertical-align: top;\n",
       "    }\n",
       "\n",
       "    .dataframe thead th {\n",
       "        text-align: right;\n",
       "    }\n",
       "</style>\n",
       "<table border=\"1\" class=\"dataframe\">\n",
       "  <thead>\n",
       "    <tr style=\"text-align: right;\">\n",
       "      <th></th>\n",
       "      <th>InPlay</th>\n",
       "      <th>Velo</th>\n",
       "      <th>SpinRate</th>\n",
       "      <th>HorzBreak</th>\n",
       "      <th>InducedVertBreak</th>\n",
       "    </tr>\n",
       "  </thead>\n",
       "  <tbody>\n",
       "    <tr>\n",
       "      <th>0</th>\n",
       "      <td>0</td>\n",
       "      <td>95.33</td>\n",
       "      <td>2893.0</td>\n",
       "      <td>10.68</td>\n",
       "      <td>21.33</td>\n",
       "    </tr>\n",
       "    <tr>\n",
       "      <th>1</th>\n",
       "      <td>0</td>\n",
       "      <td>94.41</td>\n",
       "      <td>2038.0</td>\n",
       "      <td>17.13</td>\n",
       "      <td>5.77</td>\n",
       "    </tr>\n",
       "    <tr>\n",
       "      <th>2</th>\n",
       "      <td>0</td>\n",
       "      <td>90.48</td>\n",
       "      <td>2183.0</td>\n",
       "      <td>6.61</td>\n",
       "      <td>15.39</td>\n",
       "    </tr>\n",
       "  </tbody>\n",
       "</table>\n",
       "</div>"
      ],
      "text/plain": [
       "   InPlay   Velo  SpinRate  HorzBreak  InducedVertBreak\n",
       "0       0  95.33    2893.0      10.68             21.33\n",
       "1       0  94.41    2038.0      17.13              5.77\n",
       "2       0  90.48    2183.0       6.61             15.39"
      ]
     },
     "execution_count": 2,
     "metadata": {},
     "output_type": "execute_result"
    }
   ],
   "source": [
    "# Reading the data and displaying the first few rows\n",
    "train_df = pd.read_csv('data/training.csv')\n",
    "train_df.head(3)"
   ]
  },
  {
   "cell_type": "code",
   "execution_count": 3,
   "id": "70e2f8d7-6e1d-47e0-9a72-9358da090111",
   "metadata": {},
   "outputs": [
    {
     "name": "stdout",
     "output_type": "stream",
     "text": [
      "<class 'pandas.core.frame.DataFrame'>\n",
      "RangeIndex: 10000 entries, 0 to 9999\n",
      "Data columns (total 5 columns):\n",
      " #   Column            Non-Null Count  Dtype  \n",
      "---  ------            --------------  -----  \n",
      " 0   InPlay            10000 non-null  int64  \n",
      " 1   Velo              10000 non-null  float64\n",
      " 2   SpinRate          9994 non-null   float64\n",
      " 3   HorzBreak         10000 non-null  float64\n",
      " 4   InducedVertBreak  10000 non-null  float64\n",
      "dtypes: float64(4), int64(1)\n",
      "memory usage: 390.8 KB\n"
     ]
    }
   ],
   "source": [
    "# Glimpse of column types and null values\n",
    "train_df.info()"
   ]
  },
  {
   "cell_type": "markdown",
   "id": "0c381922-315f-4954-b6d6-3d716bf98f01",
   "metadata": {},
   "source": [
    "**There are six records in the dataset where the Spin Rate of the pitch at release (in rpm) contains null values. These rows will be removed from the dataset as they account for a mere 0.06% of the total number of rows.**"
   ]
  },
  {
   "cell_type": "code",
   "execution_count": 4,
   "id": "33917e0d-bbab-4886-ad94-ef3ec514d958",
   "metadata": {},
   "outputs": [
    {
     "name": "stdout",
     "output_type": "stream",
     "text": [
      "<class 'pandas.core.frame.DataFrame'>\n",
      "Int64Index: 9994 entries, 0 to 9999\n",
      "Data columns (total 5 columns):\n",
      " #   Column            Non-Null Count  Dtype  \n",
      "---  ------            --------------  -----  \n",
      " 0   InPlay            9994 non-null   int64  \n",
      " 1   Velo              9994 non-null   float64\n",
      " 2   SpinRate          9994 non-null   float64\n",
      " 3   HorzBreak         9994 non-null   float64\n",
      " 4   InducedVertBreak  9994 non-null   float64\n",
      "dtypes: float64(4), int64(1)\n",
      "memory usage: 468.5 KB\n"
     ]
    }
   ],
   "source": [
    "# Drop null values\n",
    "train_df = train_df.dropna(axis=0)\n",
    "train_df.info()"
   ]
  },
  {
   "cell_type": "markdown",
   "id": "f763cbc3-21a5-4222-9a30-0c54e3711219",
   "metadata": {},
   "source": [
    "### Exploratory Data Analysis"
   ]
  },
  {
   "cell_type": "code",
   "execution_count": 5,
   "id": "f8ce07b3-868d-4124-baaf-8d70827dfe3c",
   "metadata": {},
   "outputs": [
    {
     "data": {
      "text/html": [
       "<div>\n",
       "<style scoped>\n",
       "    .dataframe tbody tr th:only-of-type {\n",
       "        vertical-align: middle;\n",
       "    }\n",
       "\n",
       "    .dataframe tbody tr th {\n",
       "        vertical-align: top;\n",
       "    }\n",
       "\n",
       "    .dataframe thead th {\n",
       "        text-align: right;\n",
       "    }\n",
       "</style>\n",
       "<table border=\"1\" class=\"dataframe\">\n",
       "  <thead>\n",
       "    <tr style=\"text-align: right;\">\n",
       "      <th></th>\n",
       "      <th>InPlay</th>\n",
       "      <th>Velo</th>\n",
       "      <th>SpinRate</th>\n",
       "      <th>HorzBreak</th>\n",
       "      <th>InducedVertBreak</th>\n",
       "    </tr>\n",
       "  </thead>\n",
       "  <tbody>\n",
       "    <tr>\n",
       "      <th>count</th>\n",
       "      <td>9994.000000</td>\n",
       "      <td>9994.000000</td>\n",
       "      <td>9994.000000</td>\n",
       "      <td>9994.000000</td>\n",
       "      <td>9994.000000</td>\n",
       "    </tr>\n",
       "    <tr>\n",
       "      <th>mean</th>\n",
       "      <td>0.271763</td>\n",
       "      <td>93.957601</td>\n",
       "      <td>2238.952471</td>\n",
       "      <td>9.547185</td>\n",
       "      <td>14.175964</td>\n",
       "    </tr>\n",
       "    <tr>\n",
       "      <th>std</th>\n",
       "      <td>0.444891</td>\n",
       "      <td>2.684281</td>\n",
       "      <td>196.041323</td>\n",
       "      <td>5.052148</td>\n",
       "      <td>4.604653</td>\n",
       "    </tr>\n",
       "    <tr>\n",
       "      <th>min</th>\n",
       "      <td>0.000000</td>\n",
       "      <td>59.760000</td>\n",
       "      <td>770.000000</td>\n",
       "      <td>-6.270000</td>\n",
       "      <td>-6.820000</td>\n",
       "    </tr>\n",
       "    <tr>\n",
       "      <th>25%</th>\n",
       "      <td>0.000000</td>\n",
       "      <td>92.540000</td>\n",
       "      <td>2107.000000</td>\n",
       "      <td>5.730000</td>\n",
       "      <td>11.370000</td>\n",
       "    </tr>\n",
       "    <tr>\n",
       "      <th>50%</th>\n",
       "      <td>0.000000</td>\n",
       "      <td>94.100000</td>\n",
       "      <td>2241.000000</td>\n",
       "      <td>9.430000</td>\n",
       "      <td>15.160000</td>\n",
       "    </tr>\n",
       "    <tr>\n",
       "      <th>75%</th>\n",
       "      <td>1.000000</td>\n",
       "      <td>95.660000</td>\n",
       "      <td>2367.000000</td>\n",
       "      <td>13.600000</td>\n",
       "      <td>17.630000</td>\n",
       "    </tr>\n",
       "    <tr>\n",
       "      <th>max</th>\n",
       "      <td>1.000000</td>\n",
       "      <td>102.040000</td>\n",
       "      <td>3061.000000</td>\n",
       "      <td>28.040000</td>\n",
       "      <td>24.860000</td>\n",
       "    </tr>\n",
       "  </tbody>\n",
       "</table>\n",
       "</div>"
      ],
      "text/plain": [
       "            InPlay         Velo     SpinRate    HorzBreak  InducedVertBreak\n",
       "count  9994.000000  9994.000000  9994.000000  9994.000000       9994.000000\n",
       "mean      0.271763    93.957601  2238.952471     9.547185         14.175964\n",
       "std       0.444891     2.684281   196.041323     5.052148          4.604653\n",
       "min       0.000000    59.760000   770.000000    -6.270000         -6.820000\n",
       "25%       0.000000    92.540000  2107.000000     5.730000         11.370000\n",
       "50%       0.000000    94.100000  2241.000000     9.430000         15.160000\n",
       "75%       1.000000    95.660000  2367.000000    13.600000         17.630000\n",
       "max       1.000000   102.040000  3061.000000    28.040000         24.860000"
      ]
     },
     "execution_count": 5,
     "metadata": {},
     "output_type": "execute_result"
    }
   ],
   "source": [
    "# Quick summary statistics\n",
    "train_df.describe()"
   ]
  },
  {
   "cell_type": "code",
   "execution_count": 6,
   "id": "0e197fd0-4ba2-4c22-8ebf-1c4f5a4f8ab6",
   "metadata": {},
   "outputs": [
    {
     "data": {
      "application/vnd.vegalite.v4+json": {
       "$schema": "https://vega.github.io/schema/vega-lite/v4.17.0.json",
       "config": {
        "axis": {
         "titleFontSize": 14
        },
        "title": {
         "fontSize": 16
        },
        "view": {
         "continuousHeight": 300,
         "continuousWidth": 400
        }
       },
       "data": {
        "url": "http://localhost:65391/a9740bd998148a874771a6caf352f4b4.json"
       },
       "encoding": {
        "x": {
         "aggregate": "count",
         "title": "Count",
         "type": "quantitative"
        },
        "y": {
         "field": "InPlay",
         "title": "Pitch in Play",
         "type": "nominal"
        }
       },
       "height": 250,
       "mark": "bar",
       "title": "In Play target EDA",
       "width": 400
      },
      "image/png": "[encoded data removed]",
      "text/plain": [
       "<VegaLite 4 object>\n",
       "\n",
       "If you see this message, it means the renderer has not been properly enabled\n",
       "for the frontend that you are using. For more information, see\n",
       "https://altair-viz.github.io/user_guide/troubleshooting.html\n"
      ]
     },
     "execution_count": 6,
     "metadata": {},
     "output_type": "execute_result"
    }
   ],
   "source": [
    "# Plotting InPlay Target Column\n",
    "inplay_plot = alt.Chart(train_df).mark_bar().encode(\n",
    "    x=alt.X('count()', title='Count'),\n",
    "    y=alt.Y('InPlay:N', title='Pitch in Play')\n",
    "    ).properties(\n",
    "    title='In Play target EDA',height=250, width=400).configure_axis(\n",
    "    titleFontSize=14\n",
    "    ).configure_title(\n",
    "    fontSize=16\n",
    "    )\n",
    "inplay_plot"
   ]
  },
  {
   "cell_type": "code",
   "execution_count": 7,
   "id": "3a5ac7fb-816f-463c-82e2-4a4a7f1a0846",
   "metadata": {},
   "outputs": [
    {
     "data": {
      "application/vnd.vegalite.v4+json": {
       "$schema": "https://vega.github.io/schema/vega-lite/v4.17.0.json",
       "columns": 2,
       "config": {
        "title": {
         "fontSize": 16
        },
        "view": {
         "continuousHeight": 300,
         "continuousWidth": 400
        }
       },
       "repeat": [
        "Velo",
        "SpinRate",
        "HorzBreak",
        "InducedVertBreak"
       ],
       "spec": {
        "data": {
         "url": "http://localhost:65391/a9740bd998148a874771a6caf352f4b4.json"
        },
        "encoding": {
         "color": {
          "field": "default",
          "type": "nominal"
         },
         "x": {
          "bin": {
           "maxbins": 70
          },
          "field": {
           "repeat": "repeat"
          },
          "type": "quantitative"
         },
         "y": {
          "aggregate": "count",
          "type": "quantitative"
         }
        },
        "height": 250,
        "mark": "bar",
        "width": 350
       },
       "title": "Features Distributions"
      },
      "image/png": "[encoded data removed]",
      "text/plain": [
       "<VegaLite 4 object>\n",
       "\n",
       "If you see this message, it means the renderer has not been properly enabled\n",
       "for the frontend that you are using. For more information, see\n",
       "https://altair-viz.github.io/user_guide/troubleshooting.html\n"
      ]
     },
     "execution_count": 7,
     "metadata": {},
     "output_type": "execute_result"
    }
   ],
   "source": [
    "# Feature distributions plots\n",
    "num_titles = (\n",
    "    train_df.drop(columns=[\"InPlay\"])\n",
    "    .columns.to_list()\n",
    ")\n",
    "\n",
    "alt.Chart(train_df).mark_bar().encode(\n",
    "    alt.X(alt.repeat(), type=\"quantitative\", bin=alt.Bin(maxbins=70)),\n",
    "    y=\"count()\",\n",
    "    color=\"default:N\",\n",
    ").properties(width=350, height=250).repeat(\n",
    "    num_titles, columns=2\n",
    ").properties(\n",
    "    title=\"Features Distributions\"\n",
    ").configure_title(\n",
    "    fontSize=16\n",
    ")"
   ]
  },
  {
   "cell_type": "code",
   "execution_count": 8,
   "id": "8ec2309e-ac06-4ca6-835c-c21ef99f62a7",
   "metadata": {},
   "outputs": [
    {
     "data": {
      "application/vnd.vegalite.v4+json": {
       "$schema": "https://vega.github.io/schema/vega-lite/v4.17.0.json",
       "config": {
        "view": {
         "continuousHeight": 300,
         "continuousWidth": 400
        }
       },
       "repeat": {
        "column": [
         "InPlay"
        ],
        "row": [
         "Velo",
         "SpinRate",
         "HorzBreak",
         "InducedVertBreak"
        ]
       },
       "spec": {
        "data": {
         "url": "http://localhost:65391/a9740bd998148a874771a6caf352f4b4.json"
        },
        "encoding": {
         "x": {
          "field": {
           "repeat": "row"
          },
          "type": "quantitative"
         },
         "y": {
          "field": {
           "repeat": "column"
          },
          "type": "quantitative"
         }
        },
        "height": 200,
        "mark": {
         "opacity": 0.3,
         "size": 10,
         "type": "point"
        },
        "width": 200
       },
       "title": "Pairwise comparison"
      },
      "image/png": "[encoded data removed]",
      "text/plain": [
       "<VegaLite 4 object>\n",
       "\n",
       "If you see this message, it means the renderer has not been properly enabled\n",
       "for the frontend that you are using. For more information, see\n",
       "https://altair-viz.github.io/user_guide/troubleshooting.html\n"
      ]
     },
     "execution_count": 8,
     "metadata": {},
     "output_type": "execute_result"
    }
   ],
   "source": [
    "# Correlation plots\n",
    "pair_chart = alt.Chart(train_df).mark_point(opacity=0.3, size=10).encode(\n",
    "     alt.X(alt.repeat('row'), type='quantitative'),\n",
    "     alt.Y(alt.repeat('column'), type='quantitative')\n",
    ").properties(\n",
    "    width=200,\n",
    "    height=200\n",
    ").repeat(\n",
    "    column=['InPlay'],\n",
    "    row=['Velo', 'SpinRate', 'HorzBreak', 'InducedVertBreak']\n",
    ").properties(\n",
    "    title=\"Pairwise comparison\"\n",
    "    )\n",
    "pair_chart"
   ]
  },
  {
   "cell_type": "markdown",
   "id": "11673201-e23a-40af-a6fd-6a4768bfc3c8",
   "metadata": {},
   "source": [
    "**Initial Observations Summary:**\n",
    "\n",
    "**Our classification problem exhibits a class imbalance, therefore, f1 is a proper metric to assess model performance. in addition, upon initial inspection, there appear to be no variables displaying a notably strong correlation with the target variable.**"
   ]
  },
  {
   "cell_type": "markdown",
   "id": "2436fd9b-a2f0-4ccd-ab78-c05d59bbf90e",
   "metadata": {},
   "source": [
    "### Transformations"
   ]
  },
  {
   "cell_type": "code",
   "execution_count": 9,
   "id": "eda4322e-4270-4314-9986-af6fff448459",
   "metadata": {},
   "outputs": [],
   "source": [
    "# Creating X_train, y_train\n",
    "X_train = train_df.drop(columns=\"InPlay\")\n",
    "y_train = train_df[\"InPlay\"]\n",
    "\n",
    "# Building pipeline\n",
    "preprocessor = make_column_transformer(\n",
    "    (StandardScaler(), num_titles)\n",
    ")"
   ]
  },
  {
   "cell_type": "markdown",
   "id": "dcc67420-48f2-4989-9d59-f28d9d369289",
   "metadata": {},
   "source": [
    "### Modeling"
   ]
  },
  {
   "cell_type": "markdown",
   "id": "cf3abbf5-10c1-4348-89f7-cbdc57a98429",
   "metadata": {},
   "source": [
    "#### Baseline Model"
   ]
  },
  {
   "cell_type": "code",
   "execution_count": 10,
   "id": "e943b2b5-705c-46a9-9a0e-10c88e0f135c",
   "metadata": {},
   "outputs": [
    {
     "data": {
      "text/html": [
       "<div>\n",
       "<style scoped>\n",
       "    .dataframe tbody tr th:only-of-type {\n",
       "        vertical-align: middle;\n",
       "    }\n",
       "\n",
       "    .dataframe tbody tr th {\n",
       "        vertical-align: top;\n",
       "    }\n",
       "\n",
       "    .dataframe thead th {\n",
       "        text-align: right;\n",
       "    }\n",
       "</style>\n",
       "<table border=\"1\" class=\"dataframe\">\n",
       "  <thead>\n",
       "    <tr style=\"text-align: right;\">\n",
       "      <th></th>\n",
       "      <th>mean</th>\n",
       "      <th>std</th>\n",
       "    </tr>\n",
       "  </thead>\n",
       "  <tbody>\n",
       "    <tr>\n",
       "      <th>fit_time</th>\n",
       "      <td>0.000</td>\n",
       "      <td>0.0</td>\n",
       "    </tr>\n",
       "    <tr>\n",
       "      <th>score_time</th>\n",
       "      <td>0.001</td>\n",
       "      <td>0.0</td>\n",
       "    </tr>\n",
       "    <tr>\n",
       "      <th>test_score</th>\n",
       "      <td>0.000</td>\n",
       "      <td>0.0</td>\n",
       "    </tr>\n",
       "    <tr>\n",
       "      <th>train_score</th>\n",
       "      <td>0.000</td>\n",
       "      <td>0.0</td>\n",
       "    </tr>\n",
       "  </tbody>\n",
       "</table>\n",
       "</div>"
      ],
      "text/plain": [
       "              mean  std\n",
       "fit_time     0.000  0.0\n",
       "score_time   0.001  0.0\n",
       "test_score   0.000  0.0\n",
       "train_score  0.000  0.0"
      ]
     },
     "execution_count": 10,
     "metadata": {},
     "output_type": "execute_result"
    }
   ],
   "source": [
    "# Training dummy classifier as baseline\n",
    "\n",
    "dc = DummyClassifier()\n",
    "cross_val_results = {}\n",
    "cross_val_results[\"Dummy\"] = (\n",
    "    pd.DataFrame(\n",
    "        cross_validate(\n",
    "            dc,\n",
    "            X_train,\n",
    "            y_train,\n",
    "            return_train_score=True,\n",
    "            scoring=\"f1\"\n",
    "        )\n",
    "    )\n",
    "    .agg([\"mean\", \"std\"])\n",
    "    .round(3)\n",
    "    .T\n",
    ")\n",
    "\n",
    "# Show the train and validation scores\n",
    "cross_val_results[\"Dummy\"]"
   ]
  },
  {
   "cell_type": "markdown",
   "id": "1730934e-44b5-4054-8034-397c5a82869c",
   "metadata": {},
   "source": [
    "#### Linear models"
   ]
  },
  {
   "cell_type": "code",
   "execution_count": 11,
   "id": "f9aec02b-66b5-40e2-bcaf-649278208a68",
   "metadata": {},
   "outputs": [
    {
     "data": {
      "text/html": [
       "<div>\n",
       "<style scoped>\n",
       "    .dataframe tbody tr th:only-of-type {\n",
       "        vertical-align: middle;\n",
       "    }\n",
       "\n",
       "    .dataframe tbody tr th {\n",
       "        vertical-align: top;\n",
       "    }\n",
       "\n",
       "    .dataframe thead th {\n",
       "        text-align: right;\n",
       "    }\n",
       "</style>\n",
       "<table border=\"1\" class=\"dataframe\">\n",
       "  <thead>\n",
       "    <tr style=\"text-align: right;\">\n",
       "      <th></th>\n",
       "      <th>mean</th>\n",
       "      <th>std</th>\n",
       "    </tr>\n",
       "  </thead>\n",
       "  <tbody>\n",
       "    <tr>\n",
       "      <th>fit_time</th>\n",
       "      <td>0.009</td>\n",
       "      <td>0.002</td>\n",
       "    </tr>\n",
       "    <tr>\n",
       "      <th>score_time</th>\n",
       "      <td>0.002</td>\n",
       "      <td>0.000</td>\n",
       "    </tr>\n",
       "    <tr>\n",
       "      <th>test_score</th>\n",
       "      <td>0.385</td>\n",
       "      <td>0.029</td>\n",
       "    </tr>\n",
       "    <tr>\n",
       "      <th>train_score</th>\n",
       "      <td>0.387</td>\n",
       "      <td>0.005</td>\n",
       "    </tr>\n",
       "  </tbody>\n",
       "</table>\n",
       "</div>"
      ],
      "text/plain": [
       "              mean    std\n",
       "fit_time     0.009  0.002\n",
       "score_time   0.002  0.000\n",
       "test_score   0.385  0.029\n",
       "train_score  0.387  0.005"
      ]
     },
     "execution_count": 11,
     "metadata": {},
     "output_type": "execute_result"
    }
   ],
   "source": [
    "# Training logistic regression\n",
    "\n",
    "pipe_logreg = make_pipeline(\n",
    "    preprocessor, LogisticRegression(random_state=123, class_weight=\"balanced\")\n",
    ")\n",
    "\n",
    "cross_val_results[\"LogReg\"] = (\n",
    "    pd.DataFrame(\n",
    "        cross_validate(\n",
    "            pipe_logreg,\n",
    "            X_train,\n",
    "            y_train,\n",
    "            return_train_score=True,\n",
    "            scoring=\"f1\"\n",
    "        )\n",
    "    )\n",
    "    .agg([\"mean\", \"std\"])\n",
    "    .round(3)\n",
    "    .T\n",
    ")\n",
    "\n",
    "# Show the train and validation scores\n",
    "cross_val_results[\"LogReg\"]"
   ]
  },
  {
   "cell_type": "markdown",
   "id": "44af5efd-98d2-44f7-895e-6413d60dc7fd",
   "metadata": {},
   "source": [
    "#### Non-Linear models"
   ]
  },
  {
   "cell_type": "code",
   "execution_count": 12,
   "id": "2c5d41a5-b989-4588-b42b-c5cab1cc058f",
   "metadata": {},
   "outputs": [
    {
     "data": {
      "text/html": [
       "<div>\n",
       "<style scoped>\n",
       "    .dataframe tbody tr th:only-of-type {\n",
       "        vertical-align: middle;\n",
       "    }\n",
       "\n",
       "    .dataframe tbody tr th {\n",
       "        vertical-align: top;\n",
       "    }\n",
       "\n",
       "    .dataframe thead th {\n",
       "        text-align: right;\n",
       "    }\n",
       "</style>\n",
       "<table border=\"1\" class=\"dataframe\">\n",
       "  <thead>\n",
       "    <tr style=\"text-align: right;\">\n",
       "      <th></th>\n",
       "      <th>mean</th>\n",
       "      <th>std</th>\n",
       "    </tr>\n",
       "  </thead>\n",
       "  <tbody>\n",
       "    <tr>\n",
       "      <th>fit_time</th>\n",
       "      <td>0.002</td>\n",
       "      <td>0.000</td>\n",
       "    </tr>\n",
       "    <tr>\n",
       "      <th>score_time</th>\n",
       "      <td>0.001</td>\n",
       "      <td>0.000</td>\n",
       "    </tr>\n",
       "    <tr>\n",
       "      <th>test_score</th>\n",
       "      <td>0.074</td>\n",
       "      <td>0.017</td>\n",
       "    </tr>\n",
       "    <tr>\n",
       "      <th>train_score</th>\n",
       "      <td>0.078</td>\n",
       "      <td>0.026</td>\n",
       "    </tr>\n",
       "  </tbody>\n",
       "</table>\n",
       "</div>"
      ],
      "text/plain": [
       "              mean    std\n",
       "fit_time     0.002  0.000\n",
       "score_time   0.001  0.000\n",
       "test_score   0.074  0.017\n",
       "train_score  0.078  0.026"
      ]
     },
     "execution_count": 12,
     "metadata": {},
     "output_type": "execute_result"
    }
   ],
   "source": [
    "# Training Gaussian Naive Bayes\n",
    "\n",
    "NB_bal = make_pipeline(preprocessor, GaussianNB())\n",
    "\n",
    "cross_val_results[\"NB\"] = (\n",
    "    pd.DataFrame(\n",
    "        cross_validate(\n",
    "            NB_bal,\n",
    "            X_train,\n",
    "            y_train,\n",
    "            return_train_score=True,\n",
    "            scoring=\"f1\"\n",
    "        )\n",
    "    )\n",
    "    .agg([\"mean\", \"std\"])\n",
    "    .round(3)\n",
    "    .T\n",
    ")\n",
    "# Show the train and validation scores\n",
    "cross_val_results[\"NB\"]"
   ]
  },
  {
   "cell_type": "code",
   "execution_count": 13,
   "id": "ffe2b19b-4bee-4267-8692-357f721be340",
   "metadata": {},
   "outputs": [
    {
     "data": {
      "text/html": [
       "<div>\n",
       "<style scoped>\n",
       "    .dataframe tbody tr th:only-of-type {\n",
       "        vertical-align: middle;\n",
       "    }\n",
       "\n",
       "    .dataframe tbody tr th {\n",
       "        vertical-align: top;\n",
       "    }\n",
       "\n",
       "    .dataframe thead th {\n",
       "        text-align: right;\n",
       "    }\n",
       "</style>\n",
       "<table border=\"1\" class=\"dataframe\">\n",
       "  <thead>\n",
       "    <tr style=\"text-align: right;\">\n",
       "      <th></th>\n",
       "      <th>mean</th>\n",
       "      <th>std</th>\n",
       "    </tr>\n",
       "  </thead>\n",
       "  <tbody>\n",
       "    <tr>\n",
       "      <th>fit_time</th>\n",
       "      <td>0.266</td>\n",
       "      <td>0.034</td>\n",
       "    </tr>\n",
       "    <tr>\n",
       "      <th>score_time</th>\n",
       "      <td>0.004</td>\n",
       "      <td>0.000</td>\n",
       "    </tr>\n",
       "    <tr>\n",
       "      <th>test_score</th>\n",
       "      <td>0.349</td>\n",
       "      <td>0.014</td>\n",
       "    </tr>\n",
       "    <tr>\n",
       "      <th>train_score</th>\n",
       "      <td>0.681</td>\n",
       "      <td>0.003</td>\n",
       "    </tr>\n",
       "  </tbody>\n",
       "</table>\n",
       "</div>"
      ],
      "text/plain": [
       "              mean    std\n",
       "fit_time     0.266  0.034\n",
       "score_time   0.004  0.000\n",
       "test_score   0.349  0.014\n",
       "train_score  0.681  0.003"
      ]
     },
     "execution_count": 13,
     "metadata": {},
     "output_type": "execute_result"
    }
   ],
   "source": [
    "# Training tree based model, Light Gradient Boosting Machine\n",
    "\n",
    "LGBM_bal = make_pipeline(\n",
    "    preprocessor, LGBMClassifier(random_state=123, class_weight=\"balanced\")\n",
    ")\n",
    "\n",
    "cross_val_results[\"LGBM\"] = (\n",
    "    pd.DataFrame(\n",
    "        cross_validate(\n",
    "            LGBM_bal,\n",
    "            X_train,\n",
    "            y_train,\n",
    "            return_train_score=True,\n",
    "            scoring=\"f1\"\n",
    "        )\n",
    "    )\n",
    "    .agg([\"mean\", \"std\"])\n",
    "    .round(3)\n",
    "    .T\n",
    ")\n",
    "# Show the train and validation scores\n",
    "cross_val_results[\"LGBM\"]"
   ]
  },
  {
   "cell_type": "code",
   "execution_count": 14,
   "id": "33b2fc29-bf8e-4da2-bb17-f7295304a85b",
   "metadata": {},
   "outputs": [
    {
     "data": {
      "text/html": [
       "<style type=\"text/css\">\n",
       "</style>\n",
       "<table id=\"T_0a0a1\">\n",
       "  <thead>\n",
       "    <tr>\n",
       "      <th class=\"blank level0\" >&nbsp;</th>\n",
       "      <th id=\"T_0a0a1_level0_col0\" class=\"col_heading level0 col0\" >Dummy</th>\n",
       "      <th id=\"T_0a0a1_level0_col1\" class=\"col_heading level0 col1\" >LogReg</th>\n",
       "      <th id=\"T_0a0a1_level0_col2\" class=\"col_heading level0 col2\" >NB</th>\n",
       "      <th id=\"T_0a0a1_level0_col3\" class=\"col_heading level0 col3\" >LGBM</th>\n",
       "    </tr>\n",
       "  </thead>\n",
       "  <tbody>\n",
       "    <tr>\n",
       "      <th id=\"T_0a0a1_level0_row0\" class=\"row_heading level0 row0\" >fit_time</th>\n",
       "      <td id=\"T_0a0a1_row0_col0\" class=\"data row0 col0\" >0.000</td>\n",
       "      <td id=\"T_0a0a1_row0_col1\" class=\"data row0 col1\" >0.009</td>\n",
       "      <td id=\"T_0a0a1_row0_col2\" class=\"data row0 col2\" >0.002</td>\n",
       "      <td id=\"T_0a0a1_row0_col3\" class=\"data row0 col3\" >0.266</td>\n",
       "    </tr>\n",
       "    <tr>\n",
       "      <th id=\"T_0a0a1_level0_row1\" class=\"row_heading level0 row1\" >score_time</th>\n",
       "      <td id=\"T_0a0a1_row1_col0\" class=\"data row1 col0\" >0.001</td>\n",
       "      <td id=\"T_0a0a1_row1_col1\" class=\"data row1 col1\" >0.002</td>\n",
       "      <td id=\"T_0a0a1_row1_col2\" class=\"data row1 col2\" >0.001</td>\n",
       "      <td id=\"T_0a0a1_row1_col3\" class=\"data row1 col3\" >0.004</td>\n",
       "    </tr>\n",
       "    <tr>\n",
       "      <th id=\"T_0a0a1_level0_row2\" class=\"row_heading level0 row2\" >test_score</th>\n",
       "      <td id=\"T_0a0a1_row2_col0\" class=\"data row2 col0\" >0.000</td>\n",
       "      <td id=\"T_0a0a1_row2_col1\" class=\"data row2 col1\" >0.385</td>\n",
       "      <td id=\"T_0a0a1_row2_col2\" class=\"data row2 col2\" >0.074</td>\n",
       "      <td id=\"T_0a0a1_row2_col3\" class=\"data row2 col3\" >0.349</td>\n",
       "    </tr>\n",
       "    <tr>\n",
       "      <th id=\"T_0a0a1_level0_row3\" class=\"row_heading level0 row3\" >train_score</th>\n",
       "      <td id=\"T_0a0a1_row3_col0\" class=\"data row3 col0\" >0.000</td>\n",
       "      <td id=\"T_0a0a1_row3_col1\" class=\"data row3 col1\" >0.387</td>\n",
       "      <td id=\"T_0a0a1_row3_col2\" class=\"data row3 col2\" >0.078</td>\n",
       "      <td id=\"T_0a0a1_row3_col3\" class=\"data row3 col3\" >0.681</td>\n",
       "    </tr>\n",
       "  </tbody>\n",
       "</table>\n"
      ],
      "text/plain": [
       "<pandas.io.formats.style.Styler at 0x11fb03b20>"
      ]
     },
     "execution_count": 14,
     "metadata": {},
     "output_type": "execute_result"
    }
   ],
   "source": [
    "# Showing all results\n",
    "\n",
    "combined_results = (\n",
    "    pd.concat(cross_val_results, axis=\"columns\")\n",
    "    .xs(\"mean\", axis=\"columns\", level=1)\n",
    "    .style.format(precision=3)\n",
    ")\n",
    "\n",
    "combined_results"
   ]
  },
  {
   "cell_type": "markdown",
   "id": "61af9bb3-60ad-4566-a8db-d2bf1adde423",
   "metadata": {},
   "source": [
    "### Hyperparameter optimization and model selection"
   ]
  },
  {
   "cell_type": "code",
   "execution_count": 15,
   "id": "d7fa261c-c013-4c42-98b3-6622f969fe4c",
   "metadata": {},
   "outputs": [
    {
     "data": {
      "text/html": [
       "<div>\n",
       "<style scoped>\n",
       "    .dataframe tbody tr th:only-of-type {\n",
       "        vertical-align: middle;\n",
       "    }\n",
       "\n",
       "    .dataframe tbody tr th {\n",
       "        vertical-align: top;\n",
       "    }\n",
       "\n",
       "    .dataframe thead th {\n",
       "        text-align: right;\n",
       "    }\n",
       "</style>\n",
       "<table border=\"1\" class=\"dataframe\">\n",
       "  <thead>\n",
       "    <tr style=\"text-align: right;\">\n",
       "      <th></th>\n",
       "      <th>mean</th>\n",
       "      <th>std</th>\n",
       "    </tr>\n",
       "  </thead>\n",
       "  <tbody>\n",
       "    <tr>\n",
       "      <th>fit_time</th>\n",
       "      <td>0.005</td>\n",
       "      <td>0.000</td>\n",
       "    </tr>\n",
       "    <tr>\n",
       "      <th>score_time</th>\n",
       "      <td>0.001</td>\n",
       "      <td>0.000</td>\n",
       "    </tr>\n",
       "    <tr>\n",
       "      <th>test_score</th>\n",
       "      <td>0.386</td>\n",
       "      <td>0.027</td>\n",
       "    </tr>\n",
       "    <tr>\n",
       "      <th>train_score</th>\n",
       "      <td>0.388</td>\n",
       "      <td>0.005</td>\n",
       "    </tr>\n",
       "  </tbody>\n",
       "</table>\n",
       "</div>"
      ],
      "text/plain": [
       "              mean    std\n",
       "fit_time     0.005  0.000\n",
       "score_time   0.001  0.000\n",
       "test_score   0.386  0.027\n",
       "train_score  0.388  0.005"
      ]
     },
     "execution_count": 15,
     "metadata": {},
     "output_type": "execute_result"
    }
   ],
   "source": [
    "# Logistic regression hyperparameter optimization\n",
    "\n",
    "param_dist_logreg = {\n",
    "    \"logisticregression__C\": loguniform(1e-3, 1e3),\n",
    "}\n",
    "\n",
    "random_search_logreg = RandomizedSearchCV(\n",
    "    pipe_logreg,\n",
    "    param_distributions=param_dist_logreg,\n",
    "    n_jobs=-1,\n",
    "    n_iter=20,\n",
    "    random_state=123,\n",
    "    return_train_score=True,\n",
    "    scoring=\"f1\"\n",
    ")\n",
    "random_search_logreg.fit(X_train, y_train)\n",
    "\n",
    "cross_val_results[\"LogReg_Opt\"] = (\n",
    "    pd.DataFrame(\n",
    "        cross_validate(\n",
    "            random_search_logreg.best_estimator_,\n",
    "            X_train,\n",
    "            y_train,\n",
    "            return_train_score=True,\n",
    "            scoring=\"f1\"\n",
    "        )\n",
    "    )\n",
    "    .agg([\"mean\", \"std\"])\n",
    "    .round(3)\n",
    "    .T\n",
    ")\n",
    "\n",
    "# Show the train and validation scores\n",
    "cross_val_results[\"LogReg_Opt\"]"
   ]
  },
  {
   "cell_type": "code",
   "execution_count": 16,
   "id": "25554a93-0f20-45cc-8cf5-45edd9a3b873",
   "metadata": {},
   "outputs": [
    {
     "data": {
      "text/html": [
       "<div>\n",
       "<style scoped>\n",
       "    .dataframe tbody tr th:only-of-type {\n",
       "        vertical-align: middle;\n",
       "    }\n",
       "\n",
       "    .dataframe tbody tr th {\n",
       "        vertical-align: top;\n",
       "    }\n",
       "\n",
       "    .dataframe thead th {\n",
       "        text-align: right;\n",
       "    }\n",
       "</style>\n",
       "<table border=\"1\" class=\"dataframe\">\n",
       "  <thead>\n",
       "    <tr style=\"text-align: right;\">\n",
       "      <th></th>\n",
       "      <th>mean</th>\n",
       "      <th>std</th>\n",
       "    </tr>\n",
       "  </thead>\n",
       "  <tbody>\n",
       "    <tr>\n",
       "      <th>fit_time</th>\n",
       "      <td>0.035</td>\n",
       "      <td>0.003</td>\n",
       "    </tr>\n",
       "    <tr>\n",
       "      <th>score_time</th>\n",
       "      <td>0.002</td>\n",
       "      <td>0.000</td>\n",
       "    </tr>\n",
       "    <tr>\n",
       "      <th>test_score</th>\n",
       "      <td>0.398</td>\n",
       "      <td>0.024</td>\n",
       "    </tr>\n",
       "    <tr>\n",
       "      <th>train_score</th>\n",
       "      <td>0.441</td>\n",
       "      <td>0.006</td>\n",
       "    </tr>\n",
       "  </tbody>\n",
       "</table>\n",
       "</div>"
      ],
      "text/plain": [
       "              mean    std\n",
       "fit_time     0.035  0.003\n",
       "score_time   0.002  0.000\n",
       "test_score   0.398  0.024\n",
       "train_score  0.441  0.006"
      ]
     },
     "execution_count": 16,
     "metadata": {},
     "output_type": "execute_result"
    }
   ],
   "source": [
    "# Light Gradient Boosting Machine hyperparameter optimization\n",
    "\n",
    "param_dist_lgbm = {\n",
    "    \"lgbmclassifier__learning_rate\": [0.001, 0.01, 0.05, 0.07, 0.1],\n",
    "    \"lgbmclassifier__n_estimators\": randint(0, 100),\n",
    "    \"lgbmclassifier__max_depth\": randint(0, 20),\n",
    "    \"lgbmclassifier__num_leaves\": [10, 25, 50, 100],\n",
    "}\n",
    "\n",
    "random_search_LGBM = RandomizedSearchCV(\n",
    "    LGBM_bal,\n",
    "    param_distributions=param_dist_lgbm,\n",
    "    n_jobs=-1,\n",
    "    n_iter=20,\n",
    "    random_state=123,\n",
    "    return_train_score=True,\n",
    "    scoring=\"f1\"\n",
    ")\n",
    "\n",
    "random_search_LGBM.fit(X_train, y_train)\n",
    "\n",
    "cross_val_results[\"LGBM_Opt\"] = (\n",
    "    pd.DataFrame(\n",
    "        cross_validate(\n",
    "            random_search_LGBM.best_estimator_,\n",
    "            X_train,\n",
    "            y_train,\n",
    "            return_train_score=True,\n",
    "            scoring=\"f1\"\n",
    "        )\n",
    "    )\n",
    "    .agg([\"mean\", \"std\"])\n",
    "    .round(3)\n",
    "    .T\n",
    ")\n",
    "\n",
    "# Show the train and validation scores\n",
    "cross_val_results[\"LGBM_Opt\"]"
   ]
  },
  {
   "cell_type": "code",
   "execution_count": 17,
   "id": "37f915e8-26e9-46dc-b114-ba86623d84ee",
   "metadata": {},
   "outputs": [
    {
     "data": {
      "text/html": [
       "<style type=\"text/css\">\n",
       "</style>\n",
       "<table id=\"T_1719d\">\n",
       "  <thead>\n",
       "    <tr>\n",
       "      <th class=\"blank level0\" >&nbsp;</th>\n",
       "      <th id=\"T_1719d_level0_col0\" class=\"col_heading level0 col0\" >Dummy</th>\n",
       "      <th id=\"T_1719d_level0_col1\" class=\"col_heading level0 col1\" >LogReg</th>\n",
       "      <th id=\"T_1719d_level0_col2\" class=\"col_heading level0 col2\" >NB</th>\n",
       "      <th id=\"T_1719d_level0_col3\" class=\"col_heading level0 col3\" >LGBM</th>\n",
       "      <th id=\"T_1719d_level0_col4\" class=\"col_heading level0 col4\" >LogReg_Opt</th>\n",
       "      <th id=\"T_1719d_level0_col5\" class=\"col_heading level0 col5\" >LGBM_Opt</th>\n",
       "    </tr>\n",
       "  </thead>\n",
       "  <tbody>\n",
       "    <tr>\n",
       "      <th id=\"T_1719d_level0_row0\" class=\"row_heading level0 row0\" >fit_time</th>\n",
       "      <td id=\"T_1719d_row0_col0\" class=\"data row0 col0\" >0.000</td>\n",
       "      <td id=\"T_1719d_row0_col1\" class=\"data row0 col1\" >0.009</td>\n",
       "      <td id=\"T_1719d_row0_col2\" class=\"data row0 col2\" >0.002</td>\n",
       "      <td id=\"T_1719d_row0_col3\" class=\"data row0 col3\" >0.266</td>\n",
       "      <td id=\"T_1719d_row0_col4\" class=\"data row0 col4\" >0.005</td>\n",
       "      <td id=\"T_1719d_row0_col5\" class=\"data row0 col5\" >0.035</td>\n",
       "    </tr>\n",
       "    <tr>\n",
       "      <th id=\"T_1719d_level0_row1\" class=\"row_heading level0 row1\" >score_time</th>\n",
       "      <td id=\"T_1719d_row1_col0\" class=\"data row1 col0\" >0.001</td>\n",
       "      <td id=\"T_1719d_row1_col1\" class=\"data row1 col1\" >0.002</td>\n",
       "      <td id=\"T_1719d_row1_col2\" class=\"data row1 col2\" >0.001</td>\n",
       "      <td id=\"T_1719d_row1_col3\" class=\"data row1 col3\" >0.004</td>\n",
       "      <td id=\"T_1719d_row1_col4\" class=\"data row1 col4\" >0.001</td>\n",
       "      <td id=\"T_1719d_row1_col5\" class=\"data row1 col5\" >0.002</td>\n",
       "    </tr>\n",
       "    <tr>\n",
       "      <th id=\"T_1719d_level0_row2\" class=\"row_heading level0 row2\" >test_score</th>\n",
       "      <td id=\"T_1719d_row2_col0\" class=\"data row2 col0\" >0.000</td>\n",
       "      <td id=\"T_1719d_row2_col1\" class=\"data row2 col1\" >0.385</td>\n",
       "      <td id=\"T_1719d_row2_col2\" class=\"data row2 col2\" >0.074</td>\n",
       "      <td id=\"T_1719d_row2_col3\" class=\"data row2 col3\" >0.349</td>\n",
       "      <td id=\"T_1719d_row2_col4\" class=\"data row2 col4\" >0.386</td>\n",
       "      <td id=\"T_1719d_row2_col5\" class=\"data row2 col5\" >0.398</td>\n",
       "    </tr>\n",
       "    <tr>\n",
       "      <th id=\"T_1719d_level0_row3\" class=\"row_heading level0 row3\" >train_score</th>\n",
       "      <td id=\"T_1719d_row3_col0\" class=\"data row3 col0\" >0.000</td>\n",
       "      <td id=\"T_1719d_row3_col1\" class=\"data row3 col1\" >0.387</td>\n",
       "      <td id=\"T_1719d_row3_col2\" class=\"data row3 col2\" >0.078</td>\n",
       "      <td id=\"T_1719d_row3_col3\" class=\"data row3 col3\" >0.681</td>\n",
       "      <td id=\"T_1719d_row3_col4\" class=\"data row3 col4\" >0.388</td>\n",
       "      <td id=\"T_1719d_row3_col5\" class=\"data row3 col5\" >0.441</td>\n",
       "    </tr>\n",
       "  </tbody>\n",
       "</table>\n"
      ],
      "text/plain": [
       "<pandas.io.formats.style.Styler at 0x12836b8b0>"
      ]
     },
     "execution_count": 17,
     "metadata": {},
     "output_type": "execute_result"
    }
   ],
   "source": [
    "# Displaying results\n",
    "\n",
    "combined_results = (\n",
    "    pd.concat(cross_val_results, axis=\"columns\")\n",
    "    .xs(\"mean\", axis=\"columns\", level=1)\n",
    "    .style.format(precision=3)\n",
    ")\n",
    "\n",
    "combined_results"
   ]
  },
  {
   "cell_type": "code",
   "execution_count": 18,
   "id": "926bd0ea-d993-43d4-98d1-4be2e3dbb652",
   "metadata": {},
   "outputs": [
    {
     "data": {
      "text/plain": [
       "<sklearn.metrics._plot.roc_curve.RocCurveDisplay at 0x11fb01ff0>"
      ]
     },
     "execution_count": 18,
     "metadata": {},
     "output_type": "execute_result"
    },
    {
     "data": {
      "image/png": "[encoded data removed]",
      "text/plain": [
       "<Figure size 640x480 with 1 Axes>"
      ]
     },
     "metadata": {},
     "output_type": "display_data"
    },
    {
     "data": {
      "image/png": "[encoded data removed]",
      "text/plain": [
       "<Figure size 640x480 with 1 Axes>"
      ]
     },
     "metadata": {},
     "output_type": "display_data"
    }
   ],
   "source": [
    "# Displaying AUC for model selection\n",
    "\n",
    "RocCurveDisplay.from_estimator(\n",
    "    random_search_logreg.best_estimator_, X_train, y_train, name=\"Logistic Regression\"\n",
    ")\n",
    "\n",
    "RocCurveDisplay.from_estimator(\n",
    "    random_search_LGBM.best_estimator_, X_train, y_train, name=\"LightGBM\"\n",
    ")"
   ]
  },
  {
   "cell_type": "code",
   "execution_count": 39,
   "id": "7f8c09da-f4d8-4338-972f-7c86bc1efb3e",
   "metadata": {},
   "outputs": [
    {
     "data": {
      "text/plain": [
       "<sklearn.metrics._plot.confusion_matrix.ConfusionMatrixDisplay at 0x12868fd30>"
      ]
     },
     "execution_count": 39,
     "metadata": {},
     "output_type": "execute_result"
    },
    {
     "data": {
      "image/png": "[encoded data removed]",
      "text/plain": [
       "<Figure size 640x480 with 2 Axes>"
      ]
     },
     "metadata": {},
     "output_type": "display_data"
    }
   ],
   "source": [
    "# LightGBM confusion matrix\n",
    "\n",
    "ConfusionMatrixDisplay.from_estimator(random_search_logreg.best_estimator_, X_train, y_train)"
   ]
  },
  {
   "cell_type": "markdown",
   "id": "b7b6635b-4ef0-420d-9482-19fd2b4fda99",
   "metadata": {},
   "source": [
    "### Predicting using deploy data"
   ]
  },
  {
   "cell_type": "code",
   "execution_count": 42,
   "id": "50c0024a-f9fc-460e-9eea-89805f3ddfe1",
   "metadata": {},
   "outputs": [
    {
     "name": "stdout",
     "output_type": "stream",
     "text": [
      "<class 'pandas.core.frame.DataFrame'>\n",
      "Int64Index: 9987 entries, 0 to 9999\n",
      "Data columns (total 4 columns):\n",
      " #   Column            Non-Null Count  Dtype  \n",
      "---  ------            --------------  -----  \n",
      " 0   Velo              9987 non-null   float64\n",
      " 1   SpinRate          9987 non-null   float64\n",
      " 2   HorzBreak         9987 non-null   float64\n",
      " 3   InducedVertBreak  9987 non-null   float64\n",
      "dtypes: float64(4)\n",
      "memory usage: 390.1 KB\n"
     ]
    }
   ],
   "source": [
    "test_df = pd.read_csv('data/deploy.csv')\n",
    "# Drop null values\n",
    "test_df = test_df.dropna(axis=0)\n",
    "test_df.info()"
   ]
  },
  {
   "cell_type": "code",
   "execution_count": 50,
   "id": "9cb5bcc5-8bc3-4337-9a8f-4fc371e04ecf",
   "metadata": {},
   "outputs": [],
   "source": [
    "# Saving best estimator\n",
    "best_estimator = random_search_logreg.best_estimator_\n",
    "\n",
    "# Make predictions on deploy data data\n",
    "y_pred = best_estimator.predict(test_df)\n"
   ]
  },
  {
   "cell_type": "code",
   "execution_count": 48,
   "id": "ca3c1901-315c-43a0-9233-fb4b1a62b4e8",
   "metadata": {},
   "outputs": [],
   "source": [
    "results_df = test_df.copy()\n",
    "results_df['predicted_InPlay'] = y_pred  \n",
    "\n",
    "# Save the results to a CSV file\n",
    "results_df.to_csv('results.csv', index=False) "
   ]
  },
  {
   "cell_type": "code",
   "execution_count": 49,
   "id": "1c601dc3-c55a-4ec3-a438-d784c8116e48",
   "metadata": {},
   "outputs": [
    {
     "data": {
      "text/html": [
       "<div>\n",
       "<style scoped>\n",
       "    .dataframe tbody tr th:only-of-type {\n",
       "        vertical-align: middle;\n",
       "    }\n",
       "\n",
       "    .dataframe tbody tr th {\n",
       "        vertical-align: top;\n",
       "    }\n",
       "\n",
       "    .dataframe thead th {\n",
       "        text-align: right;\n",
       "    }\n",
       "</style>\n",
       "<table border=\"1\" class=\"dataframe\">\n",
       "  <thead>\n",
       "    <tr style=\"text-align: right;\">\n",
       "      <th></th>\n",
       "      <th>Velo</th>\n",
       "      <th>SpinRate</th>\n",
       "      <th>HorzBreak</th>\n",
       "      <th>InducedVertBreak</th>\n",
       "      <th>predicted_InPlay</th>\n",
       "    </tr>\n",
       "  </thead>\n",
       "  <tbody>\n",
       "    <tr>\n",
       "      <th>0</th>\n",
       "      <td>94.72</td>\n",
       "      <td>2375.0</td>\n",
       "      <td>3.10</td>\n",
       "      <td>18.15</td>\n",
       "      <td>0</td>\n",
       "    </tr>\n",
       "    <tr>\n",
       "      <th>1</th>\n",
       "      <td>95.25</td>\n",
       "      <td>2033.0</td>\n",
       "      <td>11.26</td>\n",
       "      <td>14.50</td>\n",
       "      <td>1</td>\n",
       "    </tr>\n",
       "    <tr>\n",
       "      <th>2</th>\n",
       "      <td>92.61</td>\n",
       "      <td>2389.0</td>\n",
       "      <td>11.00</td>\n",
       "      <td>21.93</td>\n",
       "      <td>0</td>\n",
       "    </tr>\n",
       "  </tbody>\n",
       "</table>\n",
       "</div>"
      ],
      "text/plain": [
       "    Velo  SpinRate  HorzBreak  InducedVertBreak  predicted_InPlay\n",
       "0  94.72    2375.0       3.10             18.15                 0\n",
       "1  95.25    2033.0      11.26             14.50                 1\n",
       "2  92.61    2389.0      11.00             21.93                 0"
      ]
     },
     "execution_count": 49,
     "metadata": {},
     "output_type": "execute_result"
    }
   ],
   "source": [
    "results_df.head(3)"
   ]
  },
  {
   "cell_type": "markdown",
   "id": "7e9cc760-8ce0-4293-a8d8-8d263cdfa1c9",
   "metadata": {},
   "source": [
    "# Question 2: Reasoning for Q1"
   ]
  },
  {
   "cell_type": "markdown",
   "id": "7e9ce109-1681-4209-913c-ad91386e115c",
   "metadata": {},
   "source": [
    "The solution process began with an exploratory analysis to identify the proportion of positive labels and selecting the appropriate metric to train the models, in addition to having a glimpse of the features' distributions and their correlations with the target variable. Subsequently, I standardized the features to mitigate the impact of varying magnitudes before proceeding with the training of both linear and non-linear models. Upon reviewing the results table from the modeling phase, it became apparent that both logistic regression and the light gradient boosting classifier exhibited similar performance. However, there was a concern about overfitting in the case of the light gradient boosting classifier (LGBM). To address this issue, I conducted hyperparameter optimization. Following this optimization and the plotting of precision-recall curves, it was evident that the LGBM's performance improved. Given the importance of interpretability in our problem, I ultimately chose the logistic regression model as the best option. It's worth noting that while tools like SHAP (SHapley Additive exPlanations) can aid in interpreting non-linear models, the coefficients of linear models offer a straightforward and direct interpretation, aligning with the interpretability requirement of Q3.\n"
   ]
  },
  {
   "cell_type": "markdown",
   "id": "d412c347-3396-472d-82f8-a0ed530fbfaf",
   "metadata": {},
   "source": [
    "# Question 3: How variables affect the batter’s ability to put the ball in play\n"
   ]
  },
  {
   "cell_type": "code",
   "execution_count": 64,
   "id": "1614fc9e-5a29-4c8e-9dd0-b738aba0f57c",
   "metadata": {},
   "outputs": [
    {
     "data": {
      "text/plain": [
       "array([[-0.074204  , -0.04858006,  0.07028731, -0.1226105 ]])"
      ]
     },
     "execution_count": 64,
     "metadata": {},
     "output_type": "execute_result"
    }
   ],
   "source": [
    "logreg_model = best_estimator.named_steps['logisticregression'] \n",
    "coefficients = logreg_model.coef_\n",
    "coefficients"
   ]
  },
  {
   "cell_type": "code",
   "execution_count": 65,
   "id": "2e795047-3e15-45fd-aa19-7d4f9d61d455",
   "metadata": {},
   "outputs": [
    {
     "name": "stdout",
     "output_type": "stream",
     "text": [
      "Velo: -0.0742040006485658\n",
      "SpinRate: -0.04858005546348437\n",
      "HorzBreak: 0.07028731178883518\n",
      "InducedVertBreak: -0.12261050498276177\n"
     ]
    }
   ],
   "source": [
    "coef_dict = {}\n",
    "for feature, coef in zip(num_titles, coefficients[0]):\n",
    "    coef_dict[feature] = coef\n",
    "\n",
    "for feature, coef in coef_dict.items():\n",
    "    print(f\"{feature}: {coef}\")\n",
    "    \n"
   ]
  },
  {
   "cell_type": "markdown",
   "id": "6f11a0ec-780c-489e-9dbc-10eb58fb38e7",
   "metadata": {},
   "source": [
    "Considering that all variables are independent. \n",
    "\n",
    "If the amount of movement the pitch had in the horizontal direction increases, there is a higher probability of the batter putting the ball in play. Whereas an increase in either the velocity of the pitch release, the spin rate or the amount of movement the pitch had in the vertical direction causes a lower probability of the batter putting the ball in play. "
   ]
  },
  {
   "cell_type": "markdown",
   "id": "4df294e5-42ce-481a-8a56-17046793bec6",
   "metadata": {},
   "source": [
    "# Question 4: Next steps "
   ]
  },
  {
   "cell_type": "markdown",
   "id": "28788fd0-f05e-4b40-a034-63fc3131b637",
   "metadata": {},
   "source": [
    "I would love to spend more time in experimenting with non-linear models and fine-tuning their performance, with the aim of identifying a superior performer in contrast to Logistic Regression, since the feature in real life are not independent, and also trying to incorporate more data sources (for example context-dependent data). Furthermore, I would explore model interpretability techniques to provide actionable insights for the pitcher and the coaching staff, helping them optimize their pitching strategy based on these factors."
   ]
  },
  {
   "cell_type": "code",
   "execution_count": null,
   "id": "5ba7b514-c131-4dad-b05d-be9720b09953",
   "metadata": {},
   "outputs": [],
   "source": []
  }
 ],
 "metadata": {
  "kernelspec": {
   "display_name": "Python [conda env:531]",
   "language": "python",
   "name": "conda-env-531-py"
  },
  "language_info": {
   "codemirror_mode": {
    "name": "ipython",
    "version": 3
   },
   "file_extension": ".py",
   "mimetype": "text/x-python",
   "name": "python",
   "nbconvert_exporter": "python",
   "pygments_lexer": "ipython3",
   "version": "3.10.6"
  }
 },
 "nbformat": 4,
 "nbformat_minor": 5
}
