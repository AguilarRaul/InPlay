{
 "cells": [
  {
   "cell_type": "markdown",
   "id": "f325cb59-2453-46f4-b49c-a7598332b885",
   "metadata": {},
   "source": [
    "## Predicting pitch being put in Play"
   ]
  },
  {
   "cell_type": "code",
   "execution_count": 1,
   "id": "f3f859e2-2d05-49e6-a6e5-b0123c048306",
   "metadata": {},
   "outputs": [
    {
     "data": {
      "text/plain": [
       "RendererRegistry.enable('mimetype')"
      ]
     },
     "execution_count": 1,
     "metadata": {},
     "output_type": "execute_result"
    }
   ],
   "source": [
    "# Import libraries needed\n",
    "import pandas as pd\n",
    "from sklearn.model_selection import train_test_split\n",
    "import altair as alt\n",
    "alt.data_transformers.disable_max_rows()\n",
    "alt.data_transformers.enable('data_server')\n",
    "alt.renderers.enable('mimetype')"
   ]
  },
  {
   "cell_type": "markdown",
   "id": "bc831341-b031-4df8-9bc0-2ccaf7193aed",
   "metadata": {},
   "source": [
    "### Exploratory Data Analysis"
   ]
  },
  {
   "cell_type": "code",
   "execution_count": 2,
   "id": "b16e02ca-c9e9-40b5-8db6-4ed17521d81e",
   "metadata": {},
   "outputs": [
    {
     "data": {
      "text/html": [
       "<div>\n",
       "<style scoped>\n",
       "    .dataframe tbody tr th:only-of-type {\n",
       "        vertical-align: middle;\n",
       "    }\n",
       "\n",
       "    .dataframe tbody tr th {\n",
       "        vertical-align: top;\n",
       "    }\n",
       "\n",
       "    .dataframe thead th {\n",
       "        text-align: right;\n",
       "    }\n",
       "</style>\n",
       "<table border=\"1\" class=\"dataframe\">\n",
       "  <thead>\n",
       "    <tr style=\"text-align: right;\">\n",
       "      <th></th>\n",
       "      <th>InPlay</th>\n",
       "      <th>Velo</th>\n",
       "      <th>SpinRate</th>\n",
       "      <th>HorzBreak</th>\n",
       "      <th>InducedVertBreak</th>\n",
       "    </tr>\n",
       "  </thead>\n",
       "  <tbody>\n",
       "    <tr>\n",
       "      <th>0</th>\n",
       "      <td>0</td>\n",
       "      <td>95.33</td>\n",
       "      <td>2893.0</td>\n",
       "      <td>10.68</td>\n",
       "      <td>21.33</td>\n",
       "    </tr>\n",
       "    <tr>\n",
       "      <th>1</th>\n",
       "      <td>0</td>\n",
       "      <td>94.41</td>\n",
       "      <td>2038.0</td>\n",
       "      <td>17.13</td>\n",
       "      <td>5.77</td>\n",
       "    </tr>\n",
       "    <tr>\n",
       "      <th>2</th>\n",
       "      <td>0</td>\n",
       "      <td>90.48</td>\n",
       "      <td>2183.0</td>\n",
       "      <td>6.61</td>\n",
       "      <td>15.39</td>\n",
       "    </tr>\n",
       "  </tbody>\n",
       "</table>\n",
       "</div>"
      ],
      "text/plain": [
       "   InPlay   Velo  SpinRate  HorzBreak  InducedVertBreak\n",
       "0       0  95.33    2893.0      10.68             21.33\n",
       "1       0  94.41    2038.0      17.13              5.77\n",
       "2       0  90.48    2183.0       6.61             15.39"
      ]
     },
     "execution_count": 2,
     "metadata": {},
     "output_type": "execute_result"
    }
   ],
   "source": [
    "# Reading the data and displaying the first few rows\n",
    "pitch_data = pd.read_csv('data/training.csv')\n",
    "pitch_data.head(3)"
   ]
  },
  {
   "cell_type": "code",
   "execution_count": 3,
   "id": "70e2f8d7-6e1d-47e0-9a72-9358da090111",
   "metadata": {},
   "outputs": [
    {
     "name": "stdout",
     "output_type": "stream",
     "text": [
      "<class 'pandas.core.frame.DataFrame'>\n",
      "RangeIndex: 10000 entries, 0 to 9999\n",
      "Data columns (total 5 columns):\n",
      " #   Column            Non-Null Count  Dtype  \n",
      "---  ------            --------------  -----  \n",
      " 0   InPlay            10000 non-null  int64  \n",
      " 1   Velo              10000 non-null  float64\n",
      " 2   SpinRate          9994 non-null   float64\n",
      " 3   HorzBreak         10000 non-null  float64\n",
      " 4   InducedVertBreak  10000 non-null  float64\n",
      "dtypes: float64(4), int64(1)\n",
      "memory usage: 390.8 KB\n"
     ]
    }
   ],
   "source": [
    "# Glimpse of column types and null values\n",
    "pitch_data.info()"
   ]
  },
  {
   "cell_type": "markdown",
   "id": "0c381922-315f-4954-b6d6-3d716bf98f01",
   "metadata": {},
   "source": [
    "**There are six records in the dataset where the Spin Rate of the pitch at release (in rpm) contains null values. These rows will be removed from the dataset due to their insignificance, as they account for a mere 0.06% of the total number of rows.**"
   ]
  },
  {
   "cell_type": "code",
   "execution_count": 4,
   "id": "33917e0d-bbab-4886-ad94-ef3ec514d958",
   "metadata": {},
   "outputs": [
    {
     "name": "stdout",
     "output_type": "stream",
     "text": [
      "<class 'pandas.core.frame.DataFrame'>\n",
      "Int64Index: 9994 entries, 0 to 9999\n",
      "Data columns (total 5 columns):\n",
      " #   Column            Non-Null Count  Dtype  \n",
      "---  ------            --------------  -----  \n",
      " 0   InPlay            9994 non-null   int64  \n",
      " 1   Velo              9994 non-null   float64\n",
      " 2   SpinRate          9994 non-null   float64\n",
      " 3   HorzBreak         9994 non-null   float64\n",
      " 4   InducedVertBreak  9994 non-null   float64\n",
      "dtypes: float64(4), int64(1)\n",
      "memory usage: 468.5 KB\n"
     ]
    }
   ],
   "source": [
    "# Drop null values\n",
    "pitch_data = pitch_data.dropna(axis=0)\n",
    "pitch_data.info()"
   ]
  },
  {
   "cell_type": "markdown",
   "id": "5678d00d-3b38-420e-8a98-eb46d22b495c",
   "metadata": {},
   "source": [
    "**Later on, I will build predictive models using the deployment data. To make sure the models will perform well with unseen data, I will first partition the training set for cross-validation.**"
   ]
  },
  {
   "cell_type": "code",
   "execution_count": 5,
   "id": "d1f9c36f-c773-4dca-9c96-f8df82b377a8",
   "metadata": {},
   "outputs": [],
   "source": [
    "# Data split,\n",
    "train_df, valid_df = train_test_split(pitch_data, test_size=0.2, random_state=123)"
   ]
  },
  {
   "cell_type": "code",
   "execution_count": 7,
   "id": "0e197fd0-4ba2-4c22-8ebf-1c4f5a4f8ab6",
   "metadata": {},
   "outputs": [
    {
     "data": {
      "application/vnd.vegalite.v4+json": {
       "$schema": "https://vega.github.io/schema/vega-lite/v4.17.0.json",
       "config": {
        "axis": {
         "titleFontSize": 14
        },
        "title": {
         "fontSize": 16
        },
        "view": {
         "continuousHeight": 300,
         "continuousWidth": 400
        }
       },
       "data": {
        "url": "http://localhost:51283/bc0e2de300586be65599f995fbdcf30a.json"
       },
       "encoding": {
        "x": {
         "aggregate": "count",
         "title": "Count",
         "type": "quantitative"
        },
        "y": {
         "field": "InPlay",
         "title": "Pitch in Play",
         "type": "nominal"
        }
       },
       "height": 250,
       "mark": "bar",
       "title": "In Play target EDA",
       "width": 400
      },
      "image/png": "[encoded data removed]",
      "text/plain": [
       "<VegaLite 4 object>\n",
       "\n",
       "If you see this message, it means the renderer has not been properly enabled\n",
       "for the frontend that you are using. For more information, see\n",
       "https://altair-viz.github.io/user_guide/troubleshooting.html\n"
      ]
     },
     "execution_count": 7,
     "metadata": {},
     "output_type": "execute_result"
    }
   ],
   "source": [
    "# Plotting InPlay Target Column\n",
    "inplay_plot = alt.Chart(train_df).mark_bar().encode(\n",
    "    x=alt.X('count()', title='Count'),\n",
    "    y=alt.Y('InPlay:N', title='Pitch in Play')\n",
    "    ).properties(\n",
    "    title='In Play target EDA',height=250, width=400).configure_axis(\n",
    "    titleFontSize=14\n",
    "    ).configure_title(\n",
    "    fontSize=16\n",
    "    )\n",
    "inplay_plot"
   ]
  },
  {
   "cell_type": "code",
   "execution_count": null,
   "id": "de014ecc-3062-48bd-a2f7-826ec9ead16a",
   "metadata": {},
   "outputs": [],
   "source": [
    "# Plotting Feature Columns\n",
    "velo_dist = alt.Chart(room_type_data).mark_bar().encode(\n",
    "    alt.X('reviews_per_month', bin=alt.Bin(maxbins=100), scale=alt.Scale(domain=(0, 10)), title = 'Monthly reviews'),\n",
    "    alt.Y('count()', title = 'Count', stack=False),\n",
    "    ).properties(\n",
    "    height=300, \n",
    "    width=400, \n",
    "    title=\"New York 2019 Airbnb monthly reviews per accommodation\"\n",
    "    )\n",
    "count_dist"
   ]
  },
  {
   "cell_type": "code",
   "execution_count": null,
   "id": "c5448bb9-6294-4c82-8416-b5640c5cf894",
   "metadata": {},
   "outputs": [],
   "source": []
  }
 ],
 "metadata": {
  "kernelspec": {
   "display_name": "Python [conda env:531]",
   "language": "python",
   "name": "conda-env-531-py"
  },
  "language_info": {
   "codemirror_mode": {
    "name": "ipython",
    "version": 3
   },
   "file_extension": ".py",
   "mimetype": "text/x-python",
   "name": "python",
   "nbconvert_exporter": "python",
   "pygments_lexer": "ipython3",
   "version": "3.10.6"
  }
 },
 "nbformat": 4,
 "nbformat_minor": 5
}
