{
 "cells": [
  {
   "cell_type": "markdown",
   "id": "f325cb59-2453-46f4-b49c-a7598332b885",
   "metadata": {},
   "source": [
    "## Predicting pith being put in Play"
   ]
  },
  {
   "cell_type": "code",
   "execution_count": null,
   "id": "b16e02ca-c9e9-40b5-8db6-4ed17521d81e",
   "metadata": {},
   "outputs": [],
   "source": []
  }
 ],
 "metadata": {
  "kernelspec": {
   "display_name": "Python [conda env:573]",
   "language": "python",
   "name": "conda-env-573-py"
  },
  "language_info": {
   "codemirror_mode": {
    "name": "ipython",
    "version": 3
   },
   "file_extension": ".py",
   "mimetype": "text/x-python",
   "name": "python",
   "nbconvert_exporter": "python",
   "pygments_lexer": "ipython3",
   "version": "3.10.6"
  }
 },
 "nbformat": 4,
 "nbformat_minor": 5
}
